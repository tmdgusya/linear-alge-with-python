{
 "cells": [
  {
   "cell_type": "code",
   "id": "initial_id",
   "metadata": {
    "collapsed": true,
    "ExecuteTime": {
     "end_time": "2024-12-14T06:50:55.508653Z",
     "start_time": "2024-12-14T06:50:55.504845Z"
    }
   },
   "source": [
    "# add vector\n",
    "u = [1, 2, 3]\n",
    "v = [4, 5, 6]\n",
    "\n",
    "n = len(u)\n",
    "w = []\n",
    "\n",
    "for i in range(0, n):\n",
    "    val = u[i] + v[i]\n",
    "    w.append(val)\n",
    "print(w)"
   ],
   "outputs": [
    {
     "name": "stdout",
     "output_type": "stream",
     "text": [
      "[5, 7, 9]\n"
     ]
    }
   ],
   "execution_count": 1
  },
  {
   "metadata": {
    "ExecuteTime": {
     "end_time": "2024-12-14T06:51:42.629513Z",
     "start_time": "2024-12-14T06:51:42.263677Z"
    }
   },
   "cell_type": "code",
   "source": "import numpy as np",
   "id": "780cf09fae98f147",
   "outputs": [],
   "execution_count": 2
  },
  {
   "metadata": {
    "ExecuteTime": {
     "end_time": "2024-12-14T06:51:58.434528Z",
     "start_time": "2024-12-14T06:51:58.432261Z"
    }
   },
   "cell_type": "code",
   "source": [
    "u = np.array([1, 2, 3])\n",
    "v = np.array([4, 5, 6])\n",
    "\n",
    "w = u + v\n",
    "print(w)"
   ],
   "id": "41174a908fa22e35",
   "outputs": [
    {
     "name": "stdout",
     "output_type": "stream",
     "text": [
      "[5 7 9]\n"
     ]
    }
   ],
   "execution_count": 4
  },
  {
   "metadata": {
    "ExecuteTime": {
     "end_time": "2024-12-14T06:52:16.815988Z",
     "start_time": "2024-12-14T06:52:16.811899Z"
    }
   },
   "cell_type": "code",
   "source": [
    "w = u * v\n",
    "print(w)"
   ],
   "id": "89e8310311821dca",
   "outputs": [
    {
     "name": "stdout",
     "output_type": "stream",
     "text": [
      "[ 4 10 18]\n"
     ]
    }
   ],
   "execution_count": 5
  },
  {
   "metadata": {
    "ExecuteTime": {
     "end_time": "2024-12-14T07:07:40.125773Z",
     "start_time": "2024-12-14T07:07:40.123184Z"
    }
   },
   "cell_type": "code",
   "source": [
    "A = [[1, 5], [3, 4], [6, 2]]\n",
    "\n",
    "number_of_rows = len(A)\n",
    "number_of_columns = len(A[0])\n",
    "\n",
    "At = []\n",
    "for i in range(0, number_of_columns):\n",
    "    rows = []\n",
    "    for j in range(0, number_of_rows):\n",
    "        rows.append(A[j][i])\n",
    "    At.append(rows)\n",
    "\n",
    "print(At)"
   ],
   "id": "f41a0414e971fea7",
   "outputs": [
    {
     "name": "stdout",
     "output_type": "stream",
     "text": [
      "[[1, 3, 6], [5, 4, 2]]\n"
     ]
    }
   ],
   "execution_count": 7
  },
  {
   "metadata": {
    "ExecuteTime": {
     "end_time": "2024-12-14T07:08:12.317408Z",
     "start_time": "2024-12-14T07:08:12.315365Z"
    }
   },
   "cell_type": "code",
   "source": [
    "A = np.array([[1, 5], [3, 4], [6, 2]])\n",
    "At = np.transpose(A)\n",
    "print(At)"
   ],
   "id": "5f91ede65641c60e",
   "outputs": [
    {
     "name": "stdout",
     "output_type": "stream",
     "text": [
      "[[1 3 6]\n",
      " [5 4 2]]\n"
     ]
    }
   ],
   "execution_count": 8
  },
  {
   "metadata": {
    "ExecuteTime": {
     "end_time": "2024-12-14T07:10:52.585719Z",
     "start_time": "2024-12-14T07:10:52.583515Z"
    }
   },
   "cell_type": "code",
   "source": [
    "A = np.array([[5, 2], [2, 1]])\n",
    "At = np.transpose(A)\n",
    "print(A == At)"
   ],
   "id": "de133ae8364f1a6e",
   "outputs": [
    {
     "name": "stdout",
     "output_type": "stream",
     "text": [
      "[[ True  True]\n",
      " [ True  True]]\n"
     ]
    }
   ],
   "execution_count": 9
  },
  {
   "metadata": {},
   "cell_type": "code",
   "outputs": [],
   "execution_count": null,
   "source": "",
   "id": "7d679cdb5c44709b"
  }
 ],
 "metadata": {
  "kernelspec": {
   "display_name": "Python 3",
   "language": "python",
   "name": "python3"
  },
  "language_info": {
   "codemirror_mode": {
    "name": "ipython",
    "version": 2
   },
   "file_extension": ".py",
   "mimetype": "text/x-python",
   "name": "python",
   "nbconvert_exporter": "python",
   "pygments_lexer": "ipython2",
   "version": "2.7.6"
  }
 },
 "nbformat": 4,
 "nbformat_minor": 5
}
